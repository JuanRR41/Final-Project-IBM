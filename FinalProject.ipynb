{
  "metadata": {
    "kernelspec": {
      "name": "python",
      "display_name": "Python (Pyodide)",
      "language": "python"
    },
    "language_info": {
      "codemirror_mode": {
        "name": "python",
        "version": 3
      },
      "file_extension": ".py",
      "mimetype": "text/x-python",
      "name": "python",
      "nbconvert_exporter": "python",
      "pygments_lexer": "ipython3",
      "version": "3.8"
    }
  },
  "nbformat_minor": 4,
  "nbformat": 4,
  "cells": [
    {
      "cell_type": "markdown",
      "source": "# Final Project",
      "metadata": {}
    },
    {
      "cell_type": "markdown",
      "source": "## Introduction\n\nThis project will put into practice everything we have learned so far. It will demonstrate the application of various data science techniques and tools to solve real-world problems.\n",
      "metadata": {}
    },
    {
      "cell_type": "markdown",
      "source": "# Programming Languages in Data Science\n\nBelow are some of the most commonly used programming languages in the field of data science:\n\n1. **Python**: Popular for its simplicity and a wide variety of libraries for data analysis, such as Pandas and NumPy.\n2. **R**: Specialized in statistical analysis and data visualization, with libraries like ggplot2 and dplyr.\n3. **SQL**: Used for managing and querying databases, allowing manipulation of large volumes of data.\n4. **Julia**: Known for its high performance in numerical calculations and its growing use in data science.\n5. **SAS**: Primarily used in enterprise environments for statistical analysis and data management.\n6. **Java**: Although not the most common, it is used in some data science projects for its efficiency and scalability.\n\nThese languages are fundamental for the analysis, visualization, and modeling of data in various data science projects.\n",
      "metadata": {}
    },
    {
      "cell_type": "markdown",
      "source": "## Data Science Libraries\n\nHere are some commonly used libraries in data science:\n\n- **NumPy**: For numerical computing and array operations.\n- **Pandas**: For data manipulation and analysis.\n- **Matplotlib**: For data visualization.\n- **Seaborn**: For statistical data visualization.\n- **Scikit-learn**: For machine learning and data mining.\n- **TensorFlow**: For deep learning and neural networks.\n- **Keras**: For building and training deep learning models.\n- **Statsmodels**: For statistical modeling and hypothesis testing.\n",
      "metadata": {}
    },
    {
      "cell_type": "markdown",
      "source": "## Data Science Tools\n\n| Tool           | Purpose                                   |\n|----------------|-------------------------------------------|\n| Jupyter Notebook| Interactive coding and data visualization  |\n| RStudio        | Development environment for R            |\n| Anaconda       | Package management and environment setup  |\n| VSCode         | Code editor with extensions for data science |\n| Git            | Version control for code                  |\n| TensorFlow     | Deep learning framework                    |\n| Scikit-learn   | Machine learning library                   |\n| Tableau        | Data visualization tool                    |\n",
      "metadata": {}
    },
    {
      "cell_type": "markdown",
      "source": "## Examples of Arithmetic Expressions\n\nIn this section, we will demonstrate some basic arithmetic expressions:\n\n1. **Addition:**  \n   \\( 5 + 3 = 8 \\)\n\n2. **Subtraction:**  \n   \\( 10 - 4 = 6 \\)\n\n3. **Multiplication:**  \n   \\( 7 \\times 3 = 21 \\)\n\n4. **Division:**  \n   \\( 12 \\div 4 = 3 \\)\n\n5. **Exponentiation:**  \n   \\( 2^3 = 8 \\)\n\nThese expressions are fundamental in mathematics and are often used in data science for calculations and analysis.\n",
      "metadata": {}
    },
    {
      "cell_type": "code",
      "source": "# Multiplication and Addition of Numbers\n\n# Define the numbers\na = 5\nb = 10\nc = 15\n\n# Multiply a and b\nmultiplication_result = a * b\n\n# Add the result of multiplication to c\nsum_result = multiplication_result + c\n\n# Display the results\nprint(f\"Multiplication of {a} and {b} is: {multiplication_result}\")\nprint(f\"Sum of multiplication result and {c} is: {sum_result}\")\n",
      "metadata": {
        "trusted": true
      },
      "outputs": [
        {
          "name": "stdout",
          "text": "Multiplication of 5 and 10 is: 50\nSum of multiplication result and 15 is: 65\n",
          "output_type": "stream"
        }
      ],
      "execution_count": 2
    },
    {
      "cell_type": "code",
      "source": "# Function to convert minutes to hours\ndef convert_minutes_to_hours(minutes):\n    hours = minutes // 60  # Get the whole hours\n    remaining_minutes = minutes % 60  # Get the remaining minutes\n    return hours, remaining_minutes\n\n# Example usage\nminutes_input = 135  # You can change this value to test with different minutes\nhours, remaining_minutes = convert_minutes_to_hours(minutes_input)\n\n# Display the results\nprint(f\"{minutes_input} minutes is equal to {hours} hours and {remaining_minutes} minutes.\")\n",
      "metadata": {
        "trusted": true
      },
      "outputs": [
        {
          "name": "stdout",
          "text": "135 minutes is equal to 2 hours and 15 minutes.\n",
          "output_type": "stream"
        }
      ],
      "execution_count": 3
    },
    {
      "cell_type": "code",
      "source": "# List of objectives\nobjectives = [\n    \"Understand the basics of data science.\",\n    \"Learn how to clean and preprocess data.\",\n    \"Explore data visualization techniques.\",\n    \"Implement machine learning algorithms.\",\n    \"Develop skills in working with different data libraries.\"\n]\n\n# Display the objectives\nprint(\"Objectives:\")\nfor objective in objectives:\n    print(f\"- {objective}\")\n",
      "metadata": {
        "trusted": true
      },
      "outputs": [
        {
          "name": "stdout",
          "text": "Objectives:\n- Understand the basics of data science.\n- Learn how to clean and preprocess data.\n- Explore data visualization techniques.\n- Implement machine learning algorithms.\n- Develop skills in working with different data libraries.\n",
          "output_type": "stream"
        }
      ],
      "execution_count": 4
    },
    {
      "cell_type": "markdown",
      "source": "## Author\n**Juan Antonio Rodriguez Rendon**\n",
      "metadata": {}
    },
    {
      "cell_type": "code",
      "source": "",
      "metadata": {
        "trusted": true
      },
      "outputs": [],
      "execution_count": null
    }
  ]
}